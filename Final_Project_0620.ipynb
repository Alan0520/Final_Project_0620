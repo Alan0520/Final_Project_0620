{
  "nbformat": 4,
  "nbformat_minor": 0,
  "metadata": {
    "accelerator": "GPU",
    "colab": {
      "name": "Final_Project_0620.ipynb",
      "provenance": [],
      "collapsed_sections": [],
      "include_colab_link": true
    },
    "kernelspec": {
      "display_name": "Python 3",
      "name": "python3"
    },
    "language_info": {
      "name": "python"
    }
  },
  "cells": [
    {
      "cell_type": "markdown",
      "metadata": {
        "id": "view-in-github",
        "colab_type": "text"
      },
      "source": [
        "<a href=\"https://colab.research.google.com/github/Alan0520/Final_Project_0620/blob/main/Final_Project_0620.ipynb\" target=\"_parent\"><img src=\"https://colab.research.google.com/assets/colab-badge.svg\" alt=\"Open In Colab\"/></a>"
      ]
    },
    {
      "cell_type": "code",
      "metadata": {
        "colab": {
          "base_uri": "https://localhost:8080/"
        },
        "id": "VNrusPwrLzas",
        "outputId": "d5de7200-3067-47df-fac1-9801e9bdca10"
      },
      "source": [
        "from google.colab import drive\n",
        "drive.mount('/content/drive')"
      ],
      "execution_count": 1,
      "outputs": [
        {
          "output_type": "stream",
          "text": [
            "Mounted at /content/drive\n"
          ],
          "name": "stdout"
        }
      ]
    },
    {
      "cell_type": "code",
      "metadata": {
        "colab": {
          "base_uri": "https://localhost:8080/"
        },
        "id": "Qn6j8t2NHLrN",
        "outputId": "88160182-e453-4ed4-faa3-328633b9fc73"
      },
      "source": [
        "%cd /content/drive/MyDrive/tfrecordtoimages2"
      ],
      "execution_count": 9,
      "outputs": [
        {
          "output_type": "stream",
          "text": [
            "/content/drive/MyDrive/tfrecordtoimages2\n"
          ],
          "name": "stdout"
        }
      ]
    },
    {
      "cell_type": "code",
      "metadata": {
        "id": "N5u71ZCsRwhW"
      },
      "source": [
        "%tensorflow_version 2.x"
      ],
      "execution_count": 10,
      "outputs": []
    },
    {
      "cell_type": "code",
      "metadata": {
        "colab": {
          "base_uri": "https://localhost:8080/"
        },
        "id": "RAk5bJ7OU4Wt",
        "outputId": "af683b25-a07d-41c7-94db-6db8fb068dc4"
      },
      "source": [
        "!pip install waymo-open-dataset-tf-2-1-0==1.2.0"
      ],
      "execution_count": 6,
      "outputs": [
        {
          "output_type": "stream",
          "text": [
            "Collecting waymo-open-dataset-tf-2-1-0==1.2.0\n",
            "\u001b[?25l  Downloading https://files.pythonhosted.org/packages/1c/ab/a1b41e86189468985c5ee8faaa71470f8efb42ad9233b9607a27b64d50a9/waymo_open_dataset_tf_2_1_0-1.2.0-cp37-cp37m-manylinux2010_x86_64.whl (2.8MB)\n",
            "\u001b[K     |████████████████████████████████| 2.8MB 30.8MB/s \n",
            "\u001b[?25hCollecting tensorflow-gpu==2.1.0\n",
            "\u001b[?25l  Downloading https://files.pythonhosted.org/packages/0c/e8/56ecca076108302a0bc34d509dc891086455ac31895843403ef0a71d0497/tensorflow_gpu-2.1.0-cp37-cp37m-manylinux2010_x86_64.whl (421.8MB)\n",
            "\u001b[K     |████████████████████████████████| 421.8MB 42kB/s \n",
            "\u001b[?25hRequirement already satisfied: astor>=0.6.0 in /usr/local/lib/python3.7/dist-packages (from tensorflow-gpu==2.1.0->waymo-open-dataset-tf-2-1-0==1.2.0) (0.8.1)\n",
            "Collecting keras-applications>=1.0.8\n",
            "\u001b[?25l  Downloading https://files.pythonhosted.org/packages/71/e3/19762fdfc62877ae9102edf6342d71b28fbfd9dea3d2f96a882ce099b03f/Keras_Applications-1.0.8-py3-none-any.whl (50kB)\n",
            "\u001b[K     |████████████████████████████████| 51kB 8.2MB/s \n",
            "\u001b[?25hRequirement already satisfied: wheel>=0.26; python_version >= \"3\" in /usr/local/lib/python3.7/dist-packages (from tensorflow-gpu==2.1.0->waymo-open-dataset-tf-2-1-0==1.2.0) (0.36.2)\n",
            "Requirement already satisfied: six>=1.12.0 in /usr/local/lib/python3.7/dist-packages (from tensorflow-gpu==2.1.0->waymo-open-dataset-tf-2-1-0==1.2.0) (1.15.0)\n",
            "Requirement already satisfied: scipy==1.4.1; python_version >= \"3\" in /usr/local/lib/python3.7/dist-packages (from tensorflow-gpu==2.1.0->waymo-open-dataset-tf-2-1-0==1.2.0) (1.4.1)\n",
            "Requirement already satisfied: grpcio>=1.8.6 in /usr/local/lib/python3.7/dist-packages (from tensorflow-gpu==2.1.0->waymo-open-dataset-tf-2-1-0==1.2.0) (1.34.1)\n",
            "Requirement already satisfied: numpy<2.0,>=1.16.0 in /usr/local/lib/python3.7/dist-packages (from tensorflow-gpu==2.1.0->waymo-open-dataset-tf-2-1-0==1.2.0) (1.19.5)\n",
            "Requirement already satisfied: absl-py>=0.7.0 in /usr/local/lib/python3.7/dist-packages (from tensorflow-gpu==2.1.0->waymo-open-dataset-tf-2-1-0==1.2.0) (0.12.0)\n",
            "Collecting tensorflow-estimator<2.2.0,>=2.1.0rc0\n",
            "\u001b[?25l  Downloading https://files.pythonhosted.org/packages/18/90/b77c328a1304437ab1310b463e533fa7689f4bfc41549593056d812fab8e/tensorflow_estimator-2.1.0-py2.py3-none-any.whl (448kB)\n",
            "\u001b[K     |████████████████████████████████| 450kB 54.8MB/s \n",
            "\u001b[?25hRequirement already satisfied: google-pasta>=0.1.6 in /usr/local/lib/python3.7/dist-packages (from tensorflow-gpu==2.1.0->waymo-open-dataset-tf-2-1-0==1.2.0) (0.2.0)\n",
            "Requirement already satisfied: keras-preprocessing>=1.1.0 in /usr/local/lib/python3.7/dist-packages (from tensorflow-gpu==2.1.0->waymo-open-dataset-tf-2-1-0==1.2.0) (1.1.2)\n",
            "Requirement already satisfied: opt-einsum>=2.3.2 in /usr/local/lib/python3.7/dist-packages (from tensorflow-gpu==2.1.0->waymo-open-dataset-tf-2-1-0==1.2.0) (3.3.0)\n",
            "Requirement already satisfied: termcolor>=1.1.0 in /usr/local/lib/python3.7/dist-packages (from tensorflow-gpu==2.1.0->waymo-open-dataset-tf-2-1-0==1.2.0) (1.1.0)\n",
            "Collecting tensorboard<2.2.0,>=2.1.0\n",
            "\u001b[?25l  Downloading https://files.pythonhosted.org/packages/d9/41/bbf49b61370e4f4d245d4c6051dfb6db80cec672605c91b1652ac8cc3d38/tensorboard-2.1.1-py3-none-any.whl (3.8MB)\n",
            "\u001b[K     |████████████████████████████████| 3.9MB 48.9MB/s \n",
            "\u001b[?25hRequirement already satisfied: protobuf>=3.8.0 in /usr/local/lib/python3.7/dist-packages (from tensorflow-gpu==2.1.0->waymo-open-dataset-tf-2-1-0==1.2.0) (3.12.4)\n",
            "Requirement already satisfied: wrapt>=1.11.1 in /usr/local/lib/python3.7/dist-packages (from tensorflow-gpu==2.1.0->waymo-open-dataset-tf-2-1-0==1.2.0) (1.12.1)\n",
            "Collecting gast==0.2.2\n",
            "  Downloading https://files.pythonhosted.org/packages/4e/35/11749bf99b2d4e3cceb4d55ca22590b0d7c2c62b9de38ac4a4a7f4687421/gast-0.2.2.tar.gz\n",
            "Requirement already satisfied: h5py in /usr/local/lib/python3.7/dist-packages (from keras-applications>=1.0.8->tensorflow-gpu==2.1.0->waymo-open-dataset-tf-2-1-0==1.2.0) (3.1.0)\n",
            "Requirement already satisfied: markdown>=2.6.8 in /usr/local/lib/python3.7/dist-packages (from tensorboard<2.2.0,>=2.1.0->tensorflow-gpu==2.1.0->waymo-open-dataset-tf-2-1-0==1.2.0) (3.3.4)\n",
            "Requirement already satisfied: google-auth-oauthlib<0.5,>=0.4.1 in /usr/local/lib/python3.7/dist-packages (from tensorboard<2.2.0,>=2.1.0->tensorflow-gpu==2.1.0->waymo-open-dataset-tf-2-1-0==1.2.0) (0.4.4)\n",
            "Requirement already satisfied: werkzeug>=0.11.15 in /usr/local/lib/python3.7/dist-packages (from tensorboard<2.2.0,>=2.1.0->tensorflow-gpu==2.1.0->waymo-open-dataset-tf-2-1-0==1.2.0) (1.0.1)\n",
            "Requirement already satisfied: setuptools>=41.0.0 in /usr/local/lib/python3.7/dist-packages (from tensorboard<2.2.0,>=2.1.0->tensorflow-gpu==2.1.0->waymo-open-dataset-tf-2-1-0==1.2.0) (57.0.0)\n",
            "Requirement already satisfied: google-auth<2,>=1.6.3 in /usr/local/lib/python3.7/dist-packages (from tensorboard<2.2.0,>=2.1.0->tensorflow-gpu==2.1.0->waymo-open-dataset-tf-2-1-0==1.2.0) (1.31.0)\n",
            "Requirement already satisfied: requests<3,>=2.21.0 in /usr/local/lib/python3.7/dist-packages (from tensorboard<2.2.0,>=2.1.0->tensorflow-gpu==2.1.0->waymo-open-dataset-tf-2-1-0==1.2.0) (2.23.0)\n",
            "Requirement already satisfied: cached-property; python_version < \"3.8\" in /usr/local/lib/python3.7/dist-packages (from h5py->keras-applications>=1.0.8->tensorflow-gpu==2.1.0->waymo-open-dataset-tf-2-1-0==1.2.0) (1.5.2)\n",
            "Requirement already satisfied: importlib-metadata; python_version < \"3.8\" in /usr/local/lib/python3.7/dist-packages (from markdown>=2.6.8->tensorboard<2.2.0,>=2.1.0->tensorflow-gpu==2.1.0->waymo-open-dataset-tf-2-1-0==1.2.0) (4.5.0)\n",
            "Requirement already satisfied: requests-oauthlib>=0.7.0 in /usr/local/lib/python3.7/dist-packages (from google-auth-oauthlib<0.5,>=0.4.1->tensorboard<2.2.0,>=2.1.0->tensorflow-gpu==2.1.0->waymo-open-dataset-tf-2-1-0==1.2.0) (1.3.0)\n",
            "Requirement already satisfied: cachetools<5.0,>=2.0.0 in /usr/local/lib/python3.7/dist-packages (from google-auth<2,>=1.6.3->tensorboard<2.2.0,>=2.1.0->tensorflow-gpu==2.1.0->waymo-open-dataset-tf-2-1-0==1.2.0) (4.2.2)\n",
            "Requirement already satisfied: rsa<5,>=3.1.4; python_version >= \"3.6\" in /usr/local/lib/python3.7/dist-packages (from google-auth<2,>=1.6.3->tensorboard<2.2.0,>=2.1.0->tensorflow-gpu==2.1.0->waymo-open-dataset-tf-2-1-0==1.2.0) (4.7.2)\n",
            "Requirement already satisfied: pyasn1-modules>=0.2.1 in /usr/local/lib/python3.7/dist-packages (from google-auth<2,>=1.6.3->tensorboard<2.2.0,>=2.1.0->tensorflow-gpu==2.1.0->waymo-open-dataset-tf-2-1-0==1.2.0) (0.2.8)\n",
            "Requirement already satisfied: chardet<4,>=3.0.2 in /usr/local/lib/python3.7/dist-packages (from requests<3,>=2.21.0->tensorboard<2.2.0,>=2.1.0->tensorflow-gpu==2.1.0->waymo-open-dataset-tf-2-1-0==1.2.0) (3.0.4)\n",
            "Requirement already satisfied: urllib3!=1.25.0,!=1.25.1,<1.26,>=1.21.1 in /usr/local/lib/python3.7/dist-packages (from requests<3,>=2.21.0->tensorboard<2.2.0,>=2.1.0->tensorflow-gpu==2.1.0->waymo-open-dataset-tf-2-1-0==1.2.0) (1.24.3)\n",
            "Requirement already satisfied: idna<3,>=2.5 in /usr/local/lib/python3.7/dist-packages (from requests<3,>=2.21.0->tensorboard<2.2.0,>=2.1.0->tensorflow-gpu==2.1.0->waymo-open-dataset-tf-2-1-0==1.2.0) (2.10)\n",
            "Requirement already satisfied: certifi>=2017.4.17 in /usr/local/lib/python3.7/dist-packages (from requests<3,>=2.21.0->tensorboard<2.2.0,>=2.1.0->tensorflow-gpu==2.1.0->waymo-open-dataset-tf-2-1-0==1.2.0) (2021.5.30)\n",
            "Requirement already satisfied: zipp>=0.5 in /usr/local/lib/python3.7/dist-packages (from importlib-metadata; python_version < \"3.8\"->markdown>=2.6.8->tensorboard<2.2.0,>=2.1.0->tensorflow-gpu==2.1.0->waymo-open-dataset-tf-2-1-0==1.2.0) (3.4.1)\n",
            "Requirement already satisfied: typing-extensions>=3.6.4; python_version < \"3.8\" in /usr/local/lib/python3.7/dist-packages (from importlib-metadata; python_version < \"3.8\"->markdown>=2.6.8->tensorboard<2.2.0,>=2.1.0->tensorflow-gpu==2.1.0->waymo-open-dataset-tf-2-1-0==1.2.0) (3.7.4.3)\n",
            "Requirement already satisfied: oauthlib>=3.0.0 in /usr/local/lib/python3.7/dist-packages (from requests-oauthlib>=0.7.0->google-auth-oauthlib<0.5,>=0.4.1->tensorboard<2.2.0,>=2.1.0->tensorflow-gpu==2.1.0->waymo-open-dataset-tf-2-1-0==1.2.0) (3.1.1)\n",
            "Requirement already satisfied: pyasn1>=0.1.3 in /usr/local/lib/python3.7/dist-packages (from rsa<5,>=3.1.4; python_version >= \"3.6\"->google-auth<2,>=1.6.3->tensorboard<2.2.0,>=2.1.0->tensorflow-gpu==2.1.0->waymo-open-dataset-tf-2-1-0==1.2.0) (0.4.8)\n",
            "Building wheels for collected packages: gast\n",
            "  Building wheel for gast (setup.py) ... \u001b[?25l\u001b[?25hdone\n",
            "  Created wheel for gast: filename=gast-0.2.2-cp37-none-any.whl size=7557 sha256=5b773cb0c97573a4ac00e3fa45949cfd6b4154c4989ca6d5d0b364daed0c53d1\n",
            "  Stored in directory: /root/.cache/pip/wheels/5c/2e/7e/a1d4d4fcebe6c381f378ce7743a3ced3699feb89bcfbdadadd\n",
            "Successfully built gast\n",
            "\u001b[31mERROR: tensorflow 2.5.0 has requirement gast==0.4.0, but you'll have gast 0.2.2 which is incompatible.\u001b[0m\n",
            "\u001b[31mERROR: tensorflow 2.5.0 has requirement tensorboard~=2.5, but you'll have tensorboard 2.1.1 which is incompatible.\u001b[0m\n",
            "\u001b[31mERROR: tensorflow 2.5.0 has requirement tensorflow-estimator<2.6.0,>=2.5.0rc0, but you'll have tensorflow-estimator 2.1.0 which is incompatible.\u001b[0m\n",
            "\u001b[31mERROR: tensorflow-probability 0.12.1 has requirement gast>=0.3.2, but you'll have gast 0.2.2 which is incompatible.\u001b[0m\n",
            "Installing collected packages: keras-applications, tensorflow-estimator, tensorboard, gast, tensorflow-gpu, waymo-open-dataset-tf-2-1-0\n",
            "  Found existing installation: tensorflow-estimator 2.5.0\n",
            "    Uninstalling tensorflow-estimator-2.5.0:\n",
            "      Successfully uninstalled tensorflow-estimator-2.5.0\n",
            "  Found existing installation: tensorboard 2.5.0\n",
            "    Uninstalling tensorboard-2.5.0:\n",
            "      Successfully uninstalled tensorboard-2.5.0\n",
            "  Found existing installation: gast 0.4.0\n",
            "    Uninstalling gast-0.4.0:\n",
            "      Successfully uninstalled gast-0.4.0\n",
            "Successfully installed gast-0.2.2 keras-applications-1.0.8 tensorboard-2.1.1 tensorflow-estimator-2.1.0 tensorflow-gpu-2.1.0 waymo-open-dataset-tf-2-1-0-1.2.0\n"
          ],
          "name": "stdout"
        }
      ]
    },
    {
      "cell_type": "code",
      "metadata": {
        "id": "yG5AwGXKYv_n"
      },
      "source": [
        "import tensorflow as tf\n",
        "import math\n",
        "import numpy as np\n",
        "import itertools\n",
        "import os\n",
        "import matplotlib.pyplot as plt\n",
        "from waymo_open_dataset.utils import frame_utils\n",
        "from waymo_open_dataset import dataset_pb2 as open_dataset\n",
        "tf.compat.v1.enable_eager_execution() "
      ],
      "execution_count": 11,
      "outputs": []
    },
    {
      "cell_type": "code",
      "metadata": {
        "id": "I4kvNrKPfVE-"
      },
      "source": [
        "def bounding_box(camera_labels, i, width, height):\n",
        "    x_center = frame.camera_labels[camera_labels].labels[i].box.center_x / width\n",
        "    y_center = frame.camera_labels[camera_labels].labels[i].box.center_y / height\n",
        "    box_w = frame.camera_labels[camera_labels].labels[i].box.length / width\n",
        "    box_h = frame.camera_labels[camera_labels].labels[i].box.width / height\n",
        "    return x_center, y_center, box_w, box_h"
      ],
      "execution_count": 12,
      "outputs": []
    },
    {
      "cell_type": "code",
      "metadata": {
        "colab": {
          "base_uri": "https://localhost:8080/"
        },
        "id": "KOc163davOdz",
        "outputId": "cff1f80a-32d3-4399-87f4-74fa69ee480e"
      },
      "source": [
        "path = '/content/drive/MyDrive/validation/'\n",
        "\n",
        "files = os.listdir(path)\n",
        "for i in range(len(files)):\n",
        "  print(i, files[i])"
      ],
      "execution_count": 18,
      "outputs": [
        {
          "output_type": "stream",
          "text": [
            "0 1.tfrecord\n",
            "1 labels\n",
            "2 images\n"
          ],
          "name": "stdout"
        }
      ]
    },
    {
      "cell_type": "code",
      "metadata": {
        "colab": {
          "base_uri": "https://localhost:8080/"
        },
        "id": "2whyUp3rE6NR",
        "outputId": "245f7473-9a69-4ad9-c809-f8a5ecf0639f"
      },
      "source": [
        "for i in range(0, len(files)):\n",
        "    File = files[i]\n",
        "    dataset = tf.data.TFRecordDataset(path + File, compression_type='')\n",
        "    count = 0\n",
        "    print(len(files), i, File)\n",
        "    for data in dataset:\n",
        "        count += 1\n",
        "        frame = open_dataset.Frame()\n",
        "        frame.ParseFromString(bytearray(data.numpy()))\n",
        "        \n",
        "        print('.', end = '')\n",
        "        for camera_labels in range(3):\n",
        "            # image size\n",
        "            if camera_labels == 2:\n",
        "                camera_labels = 3\n",
        "            width = 1920\n",
        "            height = 1280\n",
        "    \n",
        "            # label_filename\n",
        "            label_filename = ('./labels/1/' + frame.context.name + '_' + str(count).zfill(6)\n",
        "                            + '_' + str(camera_labels) + '.txt')\n",
        "            with open(label_filename, 'w') as text_file:\n",
        "                for i in range(len(frame.camera_labels[camera_labels].labels)):\n",
        "                    object_class = frame.camera_labels[camera_labels].labels[i].type\n",
        "                    if object_class == 1:      # Vehicle\n",
        "                        x_center, y_center, box_w, box_h = bounding_box(camera_labels, i, width, height)\n",
        "                        text_file.write(str(0)+' '+str(x_center)+' '+str(y_center)+' '+str(box_w)+' '+str(box_h)+'\\n')\n",
        "                    if object_class == 2: # Pedstrian\n",
        "                        x_center, y_center, box_w, box_h = bounding_box(camera_labels, i, width, height)\n",
        "                        text_file.write(str(1)+' '+str(x_center)+' '+str(y_center)+' '+str(box_w)+' '+str(box_h)+'\\n')\n",
        "                    if object_class == 4: # Cyclist\n",
        "                        x_center, y_center, box_w, box_h = bounding_box(camera_labels, i, width, height)\n",
        "                        text_file.write(str(2)+' '+str(x_center)+' '+str(y_center)+' '+str(box_w)+' '+str(box_h)+'\\n')\n",
        "    \n",
        "            sc = 1920/1449;\n",
        "            width = 1920.0 * sc; height = 1280.0 * sc            \n",
        "            plt.figure(figsize=(width/72.0, height/72.0), dpi = 72.0)\n",
        "            plt.axis('off');  plt.grid(False)\n",
        "            plt.imshow(tf.image.decode_jpeg(frame.images[camera_labels].image), cmap=None)\n",
        "            \n",
        "            image_filename = ('./images/1/' + frame.context.name + '_' + str(count).zfill(6)\n",
        "                                + '_' + str(camera_labels) + '.jpg')\n",
        "            plt.savefig(image_filename, bbox_inches='tight',pad_inches = 0)\n",
        "            plt.close()\n",
        "    print(\"\\n\")"
      ],
      "execution_count": null,
      "outputs": [
        {
          "output_type": "stream",
          "text": [
            "3 0 1.tfrecord\n",
            "................................................................................................................................................................"
          ],
          "name": "stdout"
        }
      ]
    }
  ]
}